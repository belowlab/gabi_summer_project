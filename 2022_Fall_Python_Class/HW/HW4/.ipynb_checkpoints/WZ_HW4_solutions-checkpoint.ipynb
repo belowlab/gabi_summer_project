{
 "cells": [
  {
   "cell_type": "markdown",
   "id": "0614348a",
   "metadata": {},
   "source": [
    "# HW4\n",
    "1.\tDetermine the diabetic status for each patient.\n",
    "2.\tFind how many of each status there are and break it down by Sex.\n",
    "3. Write out your answer to either a '.txt' file or a '.csv' file.\n",
    "3.\tUse at least one meaningful function of your own.\n",
    "\n",
    "### Rules for determining the diabetic status\n",
    "1.\tNon diabetic:\n",
    "    * If a subject has only fasting blood glucose measure of 125 and below\n",
    "2.\tDiabetic:\n",
    "    * If a subject has ANY fasting blood glucose measure of 126 and above\n",
    "3.\tNA: If a subject has no measures at all (only 'NA')\n",
    "\n",
    "\n"
   ]
  },
  {
   "cell_type": "markdown",
   "id": "f10b839e",
   "metadata": {},
   "source": [
    "## Dictionary solution\n",
    "### Steps 1-2\n",
    "1. Open a file for reading\n",
    "2. While reading through each line, store values in a dictionary.\n",
    "    * Item in the dictionary this format: ```patient ID:list of FBG values``` or ```patient ID:sex value```"
   ]
  },
  {
   "cell_type": "code",
   "execution_count": 1,
   "id": "933db70e",
   "metadata": {},
   "outputs": [],
   "source": [
    "fn_fbg = 'HW4_Patient_FBG.csv'\n",
    "fn_sex= 'HW4_Patient_Sex.csv'\n",
    "\n",
    "dict_fbg = {}\n",
    "dict_sex = {}\n",
    "\n",
    "# Polulate dictionary of FBG\n",
    "with open(fn_fbg) as fh_fbg:\n",
    "    line = fh_fbg.readline().strip() # Skip the header line\n",
    "    line = fh_fbg.readline().strip()\n",
    "    while line != '':\n",
    "        patient_id = line.split(',')[0]\n",
    "        fbgs = line.split(',')[1:]\n",
    "        dict_fbg[patient_id] = fbgs\n",
    "        line = fh_fbg.readline().strip()\n",
    "\n",
    "# Polulate dictionary of Sex       \n",
    "with open(fn_sex) as fh_sex:\n",
    "    line = fh_sex.readline().strip() # Skip the header line\n",
    "    line = fh_sex.readline().strip()\n",
    "    while line != '':\n",
    "        patient_id = line.split(',')[0]\n",
    "        sex = line.split(',')[1]\n",
    "        dict_sex[patient_id] = sex\n",
    "        line = fh_sex.readline().strip()"
   ]
  },
  {
   "cell_type": "markdown",
   "id": "9baa56f5",
   "metadata": {},
   "source": [
    "### Steps 3-5\n",
    "3. Convert FBG values from strings to numbers\n",
    "4. Determine status of each patient based on FBG values\n",
    "    * Write a fucntion that takes in a list of FBG values and returns patient status\n",
    "5. Store status in a dictionary as: ```patient ID:status```"
   ]
  },
  {
   "cell_type": "code",
   "execution_count": 2,
   "id": "4c5fa0ee",
   "metadata": {},
   "outputs": [],
   "source": [
    "# Notice values in the FBG dictionary are strings.\n",
    "# We need to convert them to numbers\n",
    "# Replace NA values with \"impossible\" values (such as -1)\n",
    "\n",
    "for k in dict_fbg:\n",
    "    for i in range(len(dict_fbg[k])):\n",
    "        if dict_fbg[k][i] != 'NA':\n",
    "            dict_fbg[k][i] = float(dict_fbg[k][i])\n",
    "        else:\n",
    "            dict_fbg[k][i] = -1\n",
    "            \n",
    "# Determing status\n",
    "# 1. Non diabetic: If a subject has only fasting blood glucose measure of 125 and below\n",
    "# 2. Diabetic: If a subject has ANY fasting blood glucose measure of 126 and above\n",
    "# 3. NA: If a subject has no measures at all (only 'NA')\n",
    "\n",
    "# Eg:\n",
    "# [126.0, 124.0, -1.0] = diabetic\n",
    "# [118.0, 97.0, 111.0] = non diabetic\n",
    "# [-1, -1, -1] = mising\n",
    "\n",
    "# find_status function takes in a list of fbg values and determine status based on those values\n",
    "# Parameter: fbgs is a list of fbg values from a single patient\n",
    "# Return: status of a patient\n",
    "def find_status(fbgs):\n",
    "    if fbgs[0]==-1 and fbgs[1]==-1 and fbgs[2]==-1:\n",
    "        status = 'NA'\n",
    "    elif fbgs[0]>=126 or fbgs[1]>=126 or fbgs[2]>=126:\n",
    "        status = 'diabetic'\n",
    "    else:\n",
    "        status = 'non_diabetic'\n",
    "    return status\n",
    "\n",
    "# # Test case\n",
    "# find_status([118.0, 97.0, 111.0])\n",
    "\n",
    "\n",
    "# Create a dictionary to store patient status\n",
    "dict_status = {}\n",
    "\n",
    "# Loop through FBG dictionary\n",
    "for k in dict_fbg:\n",
    "    status = find_status(dict_fbg[k])\n",
    "    \n",
    "    # k is key in FBG dictionary, so k is patient ID\n",
    "    dict_status[k] = status\n",
    "    \n",
    "# dict_status  "
   ]
  },
  {
   "cell_type": "markdown",
   "id": "75ffcb6a",
   "metadata": {},
   "source": [
    "### Step 6-7\n",
    "6. Count numbers by sex\n",
    "    * Need 6 variables to store counts:\n",
    "            * male_diabetic, male_non_diabetic, male_na\n",
    "            * female_diabetic, female_non_diabetic, female_na\n",
    "    * Loop through sex dictionary and status dictionary at the same time\n",
    "7. Write values to an output file"
   ]
  },
  {
   "cell_type": "code",
   "execution_count": 8,
   "id": "2b42e587",
   "metadata": {},
   "outputs": [
    {
     "name": "stdout",
     "output_type": "stream",
     "text": [
      "65 35 2\n",
      "61 37 0\n"
     ]
    }
   ],
   "source": [
    "male_diabetic, male_non_diabetic, male_na = 0, 0, 0\n",
    "female_diabetic, female_non_diabetic, female_na = 0, 0, 0\n",
    "\n",
    "for k in dict_status: # Loop by key (patient ID)\n",
    "    if dict_status[k] == 'diabetic':\n",
    "        if dict_sex[k] =='F':\n",
    "            female_diabetic = female_diabetic + 1\n",
    "        else:\n",
    "            male_diabetic = male_diabetic + 1\n",
    "    elif dict_status[k] == 'non_diabetic':\n",
    "        if dict_sex[k] =='F':\n",
    "            female_non_diabetic = female_non_diabetic + 1\n",
    "        else:\n",
    "            male_non_diabetic = male_non_diabetic + 1\n",
    "    else: # Must be NA then\n",
    "        if dict_sex[k] =='F':\n",
    "            female_na = female_na + 1\n",
    "        else:\n",
    "            male_na = male_na + 1\n",
    "            \n",
    "print(male_diabetic, male_non_diabetic, male_na)\n",
    "print(female_diabetic, female_non_diabetic, female_na)\n",
    "\n",
    "# Write result to a file\n",
    "with open('WZ_HW4_result.txt', 'w') as fh:\n",
    "    fh.write('Sex\\tNon diabetic\\tDiabetic\\tNA\\n')\n",
    "    fh.write('Male\\t'+str(male_non_diabetic)+'\\t'+str(male_diabetic)+'\\t'+str(male_na)+'\\n')\n",
    "    fh.write('Female\\t'+str(female_non_diabetic)+'\\t'+str(female_diabetic)+'\\t'+str(female_na))"
   ]
  },
  {
   "cell_type": "code",
   "execution_count": null,
   "id": "ccde059c",
   "metadata": {},
   "outputs": [],
   "source": []
  },
  {
   "cell_type": "markdown",
   "id": "25d886f6",
   "metadata": {},
   "source": [
    "## List solution\n",
    "* The FBG file is sorted but the sex file is unsorted. So we can sort sex by patient ID to make them match\n",
    "* use the ```key``` parameter in sort() function of a list"
   ]
  },
  {
   "cell_type": "code",
   "execution_count": 4,
   "id": "91d5c5cf",
   "metadata": {},
   "outputs": [],
   "source": [
    "fn_fbg = 'HW4_Patient_FBG.csv'\n",
    "fn_sex= 'HW4_Patient_Sex.csv'\n",
    "\n",
    "list_fbg = []\n",
    "list_sex = []\n",
    "\n",
    "# Polulate list of FBG\n",
    "with open(fn_fbg) as fh_fbg:\n",
    "    line = fh_fbg.readline().strip() # Skip the header line\n",
    "    line = fh_fbg.readline().strip()\n",
    "    while line != '':\n",
    "        fbgs = line.split(',')[1:]\n",
    "        list_fbg.append(fbgs)\n",
    "        line = fh_fbg.readline().strip()\n",
    "\n",
    "# Polulate list of Sex       \n",
    "with open(fn_sex) as fh_sex:\n",
    "    line = fh_sex.readline().strip() # Skip the header line\n",
    "    line = fh_sex.readline().strip()\n",
    "    while line != '':\n",
    "        list_sex.append(line)\n",
    "        line = fh_sex.readline().strip()\n",
    "# list_sex"
   ]
  },
  {
   "cell_type": "code",
   "execution_count": 5,
   "id": "0bcbac59",
   "metadata": {},
   "outputs": [],
   "source": [
    "# Sort by return values of a function on each item in the list\n",
    "list_sex.sort(key=lambda x: int(x.split(',')[0].split('_')[-1]))\n",
    "# list_sex"
   ]
  },
  {
   "cell_type": "markdown",
   "id": "6ff7561a",
   "metadata": {},
   "source": [
    "## Pandas solution"
   ]
  },
  {
   "cell_type": "code",
   "execution_count": 6,
   "id": "a07166a6",
   "metadata": {},
   "outputs": [
    {
     "name": "stdout",
     "output_type": "stream",
     "text": [
      "\n",
      "Merge two dataframe on patient ID\n",
      "Female diabetic: 61\n",
      "Female non diabetic: 37\n",
      "Female NA: 0\n",
      "Male diabetic: 65\n",
      "Male non diabetic: 35\n",
      "Male NA: 2\n"
     ]
    }
   ],
   "source": [
    "import pandas as pd\n",
    "\n",
    "# Read files into dataframes\n",
    "fn_fbg = 'HW4_Patient_FBG.csv'\n",
    "fn_sex= 'HW4_Patient_Sex.csv'\n",
    "\n",
    "df_fbg = pd.read_csv(fn_fbg)\n",
    "df_sex = pd.read_csv(fn_sex)\n",
    "\n",
    "# display(df_fbg.head())\n",
    "# display(df_sex.head())\n",
    "\n",
    "print('\\nMerge two dataframe on patient ID')\n",
    "df_merged = df_fbg.merge(df_sex, on='PATIENT_ID')\n",
    "# display(df_merged.head())\n",
    "\n",
    "# Boolean masking\n",
    "mask_female = df_merged['SEX']=='F'\n",
    "mask_male = df_merged['SEX']=='M'\n",
    "\n",
    "mask_diabetic = (df_merged['FBG_YEAR_1']>=126) | (df_merged['FBG_YEAR_2']>=126) | (df_merged['FBG_YEAR_3']>=126)\n",
    "mask_na = (df_merged['FBG_YEAR_1'].isna()) & (df_merged['FBG_YEAR_2'].isna()) & (df_merged['FBG_YEAR_3'].isna())\n",
    "\n",
    "# Determine status. Fill the status column\n",
    "df_merged['status'] = 'non_diabetic'\n",
    "df_merged.loc[mask_diabetic, 'status'] = 'diabetic'\n",
    "df_merged.loc[mask_na, 'status'] = 'NA'\n",
    "mask_non_diabetic = df_merged['status'] == 'non_diabetic'\n",
    "\n",
    "print('Female diabetic:', len(df_merged.loc[mask_female & mask_diabetic]))\n",
    "print('Female non diabetic:', len(df_merged.loc[mask_female & mask_non_diabetic]))\n",
    "print('Female NA:', len(df_merged.loc[mask_female & mask_na]))\n",
    "\n",
    "print('Male diabetic:', len(df_merged.loc[mask_male & mask_diabetic]))\n",
    "print('Male non diabetic:', len(df_merged.loc[mask_male & mask_non_diabetic]))\n",
    "print('Male NA:', len(df_merged.loc[mask_male & mask_na]))"
   ]
  },
  {
   "cell_type": "code",
   "execution_count": null,
   "id": "7f11df10",
   "metadata": {},
   "outputs": [],
   "source": []
  },
  {
   "cell_type": "markdown",
   "id": "661b8e9c",
   "metadata": {},
   "source": [
    "### * Another way to get non-diabetic patients directly"
   ]
  },
  {
   "cell_type": "code",
   "execution_count": 7,
   "id": "61267c5d",
   "metadata": {},
   "outputs": [
    {
     "name": "stdout",
     "output_type": "stream",
     "text": [
      "Female diabetic: 61\n",
      "Female non diabetic: 37\n",
      "Female NA: 0\n",
      "Male diabetic: 65\n",
      "Male non diabetic: 35\n",
      "Male NA: 2\n"
     ]
    }
   ],
   "source": [
    "# Boolean masking\n",
    "mask_female = df_merged['SEX']=='F'\n",
    "mask_male = df_merged['SEX']=='M'\n",
    "\n",
    "mask_diabetic = (df_merged['FBG_YEAR_1']>=126) | (df_merged['FBG_YEAR_2']>=126) | (df_merged['FBG_YEAR_3']>=126)\n",
    "mask_na = (df_merged['FBG_YEAR_1'].isna()) & (df_merged['FBG_YEAR_2'].isna()) & (df_merged['FBG_YEAR_3'].isna())\n",
    "\n",
    "# If not diabetic or NA,then it must be non diabetic\n",
    "# False=0, True=1 \n",
    "mask_non_diabetic = ((mask_diabetic-1)!=0) & ((mask_na-1)!=0)\n",
    "\n",
    "print('Female diabetic:', len(df_merged.loc[mask_female & mask_diabetic]))\n",
    "print('Female non diabetic:', len(df_merged.loc[mask_female & mask_non_diabetic]))\n",
    "print('Female NA:', len(df_merged.loc[mask_female & mask_na]))\n",
    "\n",
    "print('Male diabetic:', len(df_merged.loc[mask_male & mask_diabetic]))\n",
    "print('Male non diabetic:', len(df_merged.loc[mask_male & mask_non_diabetic]))\n",
    "print('Male NA:', len(df_merged.loc[mask_male & mask_na]))"
   ]
  },
  {
   "cell_type": "code",
   "execution_count": null,
   "id": "dbb2683c-203e-4669-bb0b-7d2635f5103e",
   "metadata": {},
   "outputs": [],
   "source": []
  }
 ],
 "metadata": {
  "kernelspec": {
   "display_name": "Python 3 (ipykernel)",
   "language": "python",
   "name": "python3"
  },
  "language_info": {
   "codemirror_mode": {
    "name": "ipython",
    "version": 3
   },
   "file_extension": ".py",
   "mimetype": "text/x-python",
   "name": "python",
   "nbconvert_exporter": "python",
   "pygments_lexer": "ipython3",
   "version": "3.7.7"
  }
 },
 "nbformat": 4,
 "nbformat_minor": 5
}
