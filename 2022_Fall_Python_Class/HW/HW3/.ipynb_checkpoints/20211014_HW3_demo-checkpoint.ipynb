{
 "cells": [
  {
   "cell_type": "markdown",
   "id": "c70fcec2-fd64-469d-8445-9c434a2b8e22",
   "metadata": {},
   "source": [
    "For this assignmnet you need to\n",
    "1. write a program that finds the average FBG for each year\n",
    "2. write out the answer to a \".txt\"\n",
    "3. need to include at least one function within your script"
   ]
  },
  {
   "cell_type": "code",
   "execution_count": 1,
   "id": "15352e47-6bd6-4008-ab04-4658417c0aae",
   "metadata": {},
   "outputs": [],
   "source": [
    "import os\n",
    "print(os.getcwd()) # Check your current working directory"
   ]
  },
  {
   "cell_type": "code",
   "execution_count": 3,
   "id": "a14a2694-1557-4572-b7cc-6c1dad1653c4",
   "metadata": {},
   "outputs": [
    {
     "data": {
      "text/plain": [
       "'PATIENT_ID,FBG_YEAR_1,FBG_YEAR_2,FBG__YEAR_3\\n'"
      ]
     },
     "execution_count": 3,
     "metadata": {},
     "output_type": "execute_result"
    }
   ],
   "source": [
    "fn = 'Patient_FBG_2021.csv'\n",
    "fh = open(fn)\n",
    "fh.readline()"
   ]
  },
  {
   "cell_type": "code",
   "execution_count": 22,
   "id": "241f3514-fdb8-4aaf-bf06-2395d96aa230",
   "metadata": {},
   "outputs": [
    {
     "name": "stdout",
     "output_type": "stream",
     "text": [
      "120.45\n",
      "120.035\n",
      "120.165\n"
     ]
    }
   ],
   "source": [
    "# ---------- helper functions -----------\n",
    "def avg(lst):\n",
    "    value = sum(lst)/len(lst)\n",
    "    return value # Or return directly with: return sum(lst)/len(lst)\n",
    "\n",
    "# ---------- end helper functions -----------\n",
    "\n",
    "fn = 'Patient_FBG_2021.csv'\n",
    "year_1 = []\n",
    "year_2 = []\n",
    "year_3 = []\n",
    "\n",
    "with open(fn) as fh: # readlines() or read()\n",
    "    fh.readline()\n",
    "    line = fh.readline().strip()\n",
    "    while line != '': # Line will be empty (ie. '') if we reach end of the file\n",
    "        my_list = line.split(sep=',')\n",
    "        year_1.append(int(my_list[1]))\n",
    "        year_2.append(int(my_list[2]))\n",
    "        year_3.append(int(my_list[3]))\n",
    "#         print(my_list)\n",
    "        line = fh.readline().strip()\n",
    "print(avg(year_1))\n",
    "print(avg(year_2))  \n",
    "print(avg(year_3))  \n",
    "\n",
    "# You can also use code below to open a file:\n",
    "# fh = open(fn)\n",
    "# fh.close()"
   ]
  },
  {
   "cell_type": "code",
   "execution_count": 25,
   "id": "c3b32829-7fac-4473-a687-2ae57c67b9ba",
   "metadata": {},
   "outputs": [],
   "source": [
    "# Write your result to a file\n",
    "fh_output = open('output.txt', 'w')\n",
    "fh_output.write('year 1: ' + str(avg(year_1)) + '\\n')\n",
    "fh_output.write('year 2: ' + str(avg(year_2)) + '\\n')\n",
    "fh_output.write('year 3: ' + str(avg(year_3)) + '\\n')\n",
    "\n",
    "fh_output.close()"
   ]
  },
  {
   "cell_type": "code",
   "execution_count": null,
   "id": "cf5f2b3a-1054-435d-b3aa-add4482c127d",
   "metadata": {},
   "outputs": [],
   "source": []
  }
 ],
 "metadata": {
  "kernelspec": {
   "display_name": "Python 3 (ipykernel)",
   "language": "python",
   "name": "python3"
  },
  "language_info": {
   "codemirror_mode": {
    "name": "ipython",
    "version": 3
   },
   "file_extension": ".py",
   "mimetype": "text/x-python",
   "name": "python",
   "nbconvert_exporter": "python",
   "pygments_lexer": "ipython3",
   "version": "3.7.7"
  }
 },
 "nbformat": 4,
 "nbformat_minor": 5
}
