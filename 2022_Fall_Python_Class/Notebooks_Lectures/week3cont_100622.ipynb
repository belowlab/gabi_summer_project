{
 "cells": [
  {
   "cell_type": "code",
   "execution_count": null,
   "metadata": {},
   "outputs": [],
   "source": [
    "### DICTIONARIES!!!!! :a data structure in which you can refer to each value by name\n",
    "\n",
    "#This type of structure is called a mapping. \n",
    "#The only built-in mapping type in Python is the dictionary. \n",
    "\n",
    "#The values in a dictionary don’t have any particular order \n",
    "#but are stored under a key, which may be a number, a string, or even a tuple.\n",
    "\n",
    "#dictionaries—both real ones and their Python equivalent—are constructed \n",
    "#so that you can look up a specific word (key) easily to find its definition (value).\n",
    "\n",
    "#Let’s say you have a list of people.\n",
    "names = ['Alice', 'Beth', 'Cecil', 'Dee-Dee', 'Earl']"
   ]
  },
  {
   "cell_type": "code",
   "execution_count": 2,
   "metadata": {},
   "outputs": [],
   "source": [
    "#What if you wanted to create a little database \n",
    "#where you could store the telephone numbers of these people—how would you do that?\n",
    "\n",
    "#One way would be to make another list. \n",
    "#Let’s say you’re storing only their four-digit extensions. \n",
    "\n",
    "numbers = ['2341', '9102', '3158', '0142', '5551']"
   ]
  },
  {
   "cell_type": "code",
   "execution_count": 3,
   "metadata": {},
   "outputs": [
    {
     "data": {
      "text/plain": [
       "'3158'"
      ]
     },
     "execution_count": 3,
     "metadata": {},
     "output_type": "execute_result"
    }
   ],
   "source": [
    "#Once you’ve created these lists, you can look up Cecil’s telephone number as follows:\n",
    "numbers[names.index('Cecil')]"
   ]
  },
  {
   "cell_type": "code",
   "execution_count": 6,
   "metadata": {},
   "outputs": [
    {
     "name": "stdout",
     "output_type": "stream",
     "text": [
      "2341\n",
      "2346\n",
      "1234\n"
     ]
    }
   ],
   "source": [
    "#It works, but it’s a bit impractical. What you really would want to do is something like the following:\n",
    "\n",
    "#  phonebook['Cecil']\n",
    "\n",
    "#If 'phonebook' is a dictionary, you can do just that!\n",
    "\n",
    "phonebook = {'Alice':'2341', 'Beth': '2346', 'Cecil': '3258'}\n",
    "phonebook['Lesman']='9999'\n",
    "phonebook['Cecil']='1234'\n",
    "print(phonebook['Alice'])\n",
    "print(phonebook['Beth'])\n",
    "print(phonebook['Cecil'])"
   ]
  },
  {
   "cell_type": "code",
   "execution_count": 9,
   "metadata": {},
   "outputs": [
    {
     "data": {
      "text/plain": [
       "{}"
      ]
     },
     "execution_count": 9,
     "metadata": {},
     "output_type": "execute_result"
    }
   ],
   "source": [
    "#Dictionaries consist of mapped pairs (called *items*) of *keys* and their corresponding *values*.\n",
    "\n",
    "#here, the names are the keys, and the telephone numbers are the values\n",
    "#Each key is separated from its value by a colon (:),\n",
    "#the items are separated by commas, and the whole thing is enclosed in curly braces. \n",
    "\n",
    "#An empty dictionary (without any items) is written with just two curly braces, like this: {}.\n",
    "\n",
    "mydict = {}\n",
    "mydict"
   ]
  },
  {
   "cell_type": "code",
   "execution_count": 10,
   "metadata": {},
   "outputs": [
    {
     "data": {
      "text/plain": [
       "{'name': 'Piper', 'age': 41}"
      ]
     },
     "execution_count": 10,
     "metadata": {},
     "output_type": "execute_result"
    }
   ],
   "source": [
    "#The dict Function\n",
    "#You can use the dict function to construct dictionaries from other mappings (for example, other\n",
    "#dictionaries) or from sequences of (key, value) pairs.\n",
    "\n",
    "items = [('name', 'Piper'), ('age', 41)]\n",
    "d = dict(items)\n",
    "d"
   ]
  },
  {
   "cell_type": "code",
   "execution_count": 11,
   "metadata": {},
   "outputs": [
    {
     "data": {
      "text/plain": [
       "'Piper'"
      ]
     },
     "execution_count": 11,
     "metadata": {},
     "output_type": "execute_result"
    }
   ],
   "source": [
    "d['name']"
   ]
  },
  {
   "cell_type": "code",
   "execution_count": 12,
   "metadata": {},
   "outputs": [
    {
     "data": {
      "text/plain": [
       "{'name': 'Hung-Hsin', 'age': 29}"
      ]
     },
     "execution_count": 12,
     "metadata": {},
     "output_type": "execute_result"
    }
   ],
   "source": [
    "#It can also be used with keyword arguments, as follows:\n",
    "d = dict(name='Hung-Hsin', age=29)\n",
    "d"
   ]
  },
  {
   "cell_type": "code",
   "execution_count": 13,
   "metadata": {},
   "outputs": [
    {
     "data": {
      "text/plain": [
       "{'name': 'Hung-Hsin', 'age': 29, 'k': 'v'}"
      ]
     },
     "execution_count": 13,
     "metadata": {},
     "output_type": "execute_result"
    }
   ],
   "source": [
    "#If used without any arguments, it returns a new empty dictionary, \n",
    "#just like other similar functions such as list, tuple, and str\n",
    "mylist= list()\n",
    "#The basic behavior of a dictionary in many ways mirrors that of a sequence.\n",
    "\n",
    "d['k'] = 'v' #associates the value 'v' with the key k.\n",
    "d"
   ]
  },
  {
   "cell_type": "code",
   "execution_count": 14,
   "metadata": {},
   "outputs": [
    {
     "data": {
      "text/plain": [
       "{'name': 'Hung-Hsin', 'age': 29, 'k': 'Piper'}"
      ]
     },
     "execution_count": 14,
     "metadata": {},
     "output_type": "execute_result"
    }
   ],
   "source": [
    "d['k'] = 'Piper'\n",
    "d"
   ]
  },
  {
   "cell_type": "code",
   "execution_count": 15,
   "metadata": {},
   "outputs": [
    {
     "data": {
      "text/plain": [
       "3"
      ]
     },
     "execution_count": 15,
     "metadata": {},
     "output_type": "execute_result"
    }
   ],
   "source": [
    "len(d) #returns the number of items (key-value pairs) in d."
   ]
  },
  {
   "cell_type": "code",
   "execution_count": 16,
   "metadata": {},
   "outputs": [
    {
     "data": {
      "text/plain": [
       "'Piper'"
      ]
     },
     "execution_count": 16,
     "metadata": {},
     "output_type": "execute_result"
    }
   ],
   "source": [
    "d['k'] #returns the value associated with the key 'k'."
   ]
  },
  {
   "cell_type": "code",
   "execution_count": 17,
   "metadata": {},
   "outputs": [
    {
     "data": {
      "text/plain": [
       "True"
      ]
     },
     "execution_count": 17,
     "metadata": {},
     "output_type": "execute_result"
    }
   ],
   "source": [
    "'k' in d #checks whether there is an item in d that has the key k."
   ]
  },
  {
   "cell_type": "code",
   "execution_count": 18,
   "metadata": {},
   "outputs": [],
   "source": [
    "del d['k'] # deletes the item with key k."
   ]
  },
  {
   "cell_type": "code",
   "execution_count": 19,
   "metadata": {},
   "outputs": [
    {
     "data": {
      "text/plain": [
       "{'name': 'Hung-Hsin', 'age': 29}"
      ]
     },
     "execution_count": 19,
     "metadata": {},
     "output_type": "execute_result"
    }
   ],
   "source": [
    "d"
   ]
  },
  {
   "cell_type": "code",
   "execution_count": null,
   "metadata": {},
   "outputs": [],
   "source": [
    "#Although dictionaries and lists share several common characteristics, there are some important distinctions:\n",
    "\n",
    "#Key types: Dictionary keys don’t have to be integers (though they may be). \n",
    "#They may be any immutable type, such as floating-point (real) numbers, strings, or tuples.\n",
    "\n",
    "#Automatic addition: You can assign a value to a key, even if that key isn’t in the dictionary \n",
    "#to begin with; in that case, a new item will be created. You cannot assign a value to an index \n",
    "#outside the list’s range (without using append or something like that).\n",
    "\n",
    "#Membership: The expression k in d (where d is a dictionary) looks for a key, not a value. \n",
    "#The expression v in l, on the other hand (where l is a list) looks for a value, not an index. \n",
    "#This may seem a bit inconsistent, but it is actually quite natural when you get used to it. \n",
    "#After all, if the dictionary has the given key, checking the corresponding value is easy.\n",
    "\n",
    "#Checking for a key in a dictionary is much more efficient than checking for \n",
    "#membership in a list, and the efficiency difference grows the larger the data structures are\n",
    "#this is because lists are ordered and dictionary keys are not\n",
    "\n",
    "#lists are ordered, and can't be aribitrarily extended\n",
    "x = []\n",
    "x[42] = 'Python_is_rad'"
   ]
  },
  {
   "cell_type": "code",
   "execution_count": null,
   "metadata": {},
   "outputs": [],
   "source": [
    "#dictionaries are unordered and can be\n",
    "x = {}\n",
    "x[42] = 'Python_is_rad'\n",
    "x"
   ]
  },
  {
   "cell_type": "code",
   "execution_count": 1,
   "metadata": {},
   "outputs": [
    {
     "name": "stdout",
     "output_type": "stream",
     "text": [
      "Name: Alice\n",
      "Phone number (p), address (a)? p\n",
      "Alice's phone number is 2341.\n"
     ]
    }
   ],
   "source": [
    "#You can see there’s no problem here. \n",
    "#A new item is simply added to the dictionary, and I’m in business.\n",
    "\n",
    "#Dictionary Example\n",
    "\n",
    "# A simple database\n",
    "# A dictionary with person names as keys. Each person is represented as\n",
    "# another dictionary with the keys 'phone' and 'addr' referring to their phone\n",
    "# number and address, respectively.\n",
    "people = {\n",
    "    'Alice': {\n",
    "        'phone': '2341',\n",
    "        'addr': 'Foo drive 23'\n",
    "    },\n",
    "    'Beth': {\n",
    "        'phone': '9102',\n",
    "        'addr': 'Bar street 42'\n",
    "    },\n",
    "    'Cecil': {\n",
    "        'phone': '3158',\n",
    "        'addr': 'Baz avenue 90'\n",
    "    }\n",
    "}\n",
    "# Descriptive labels for the phone number and address. These will be used\n",
    "# when printing the output.\n",
    "labels = {\n",
    "    'phone': 'phone number',\n",
    "    'addr': 'address'\n",
    "}\n",
    "name = input('Name: ')\n",
    "# Are we looking for a phone number or an address?\n",
    "#request = ''\n",
    "key=''\n",
    "#request = input('Phone number (p), address (a), or both (pa)? ')\n",
    "request = input('Phone number (p), address (a)? ')\n",
    "# Use the correct key:\n",
    "if request == 'p': key = 'phone'\n",
    "if request == 'a': key = 'addr'\n",
    "#if request == 'pa' : \n",
    "# Only try to print information if the name is a valid key in\n",
    "# our dictionary:\n",
    "if name in people: print(\"{}'s {} is {}.\".format(name, labels[key], people[name][key]))"
   ]
  },
  {
   "cell_type": "code",
   "execution_count": 10,
   "metadata": {},
   "outputs": [
    {
     "data": {
      "text/plain": [
       "{'Alice': '2341', 'Beth': '2346', 'Cecil': '1234', 'Lesman': '9999'}"
      ]
     },
     "execution_count": 10,
     "metadata": {},
     "output_type": "execute_result"
    }
   ],
   "source": [
    "#recall phonebook is a dictionary that we created last week\n",
    "phonebook"
   ]
  },
  {
   "cell_type": "code",
   "execution_count": 11,
   "metadata": {},
   "outputs": [
    {
     "data": {
      "text/plain": [
       "\"Cecil's phone number is 1234.\""
      ]
     },
     "execution_count": 11,
     "metadata": {},
     "output_type": "execute_result"
    }
   ],
   "source": [
    "# String Formatting with Dictionaries\n",
    "# dictionary may contain all kinds of information, \n",
    "#and your format string will only pick out whatever it needs. \n",
    "#You’ll have to specify \n",
    "#that you’re supplying a mapping, by using format_map.\n",
    "\n",
    "\"Cecil's phone number is {Cecil}.\".format_map(phonebook)"
   ]
  },
  {
   "cell_type": "code",
   "execution_count": null,
   "metadata": {},
   "outputs": [],
   "source": [
    "#Dictionary Methods\n",
    "\n",
    "#Just like the other built-in types, dictionaries have methods.\n",
    "\n",
    "#clear\n",
    "#The clear method removes all items from the dictionary. \n",
    "#This is an in-place operation (like list.sort), so it returns nothing (or, rather, None).\n",
    "\n",
    "d = {}\n",
    "d['name'] = 'Jack'\n",
    "d['age'] = 42\n",
    "d"
   ]
  },
  {
   "cell_type": "code",
   "execution_count": null,
   "metadata": {},
   "outputs": [],
   "source": [
    "d.clear()"
   ]
  },
  {
   "cell_type": "code",
   "execution_count": null,
   "metadata": {},
   "outputs": [],
   "source": [
    "d"
   ]
  },
  {
   "cell_type": "code",
   "execution_count": null,
   "metadata": {},
   "outputs": [],
   "source": [
    "#If I try to store d.clear() it stores the value None\n",
    "\n",
    "d = {}\n",
    "d['name'] = 'Jack'\n",
    "d['age'] = 42\n",
    "print(d)\n",
    "returned_value = d.clear()\n",
    "print(returned_value)"
   ]
  },
  {
   "cell_type": "code",
   "execution_count": null,
   "metadata": {},
   "outputs": [],
   "source": [
    "#Why is this useful? Let’s consider two scenarios. \n",
    "#In both scenarios, x and y originally refer to the same dictionary.\n",
    "#Here’s the first one:\n",
    "x = {}\n",
    "y = x\n",
    "x['key'] = 'value'\n",
    "y"
   ]
  },
  {
   "cell_type": "code",
   "execution_count": null,
   "metadata": {},
   "outputs": [],
   "source": [
    "x = {} #I “blank out” x by assigning a new, empty dictionary to it. That doesn’t affect y at all\n",
    "y"
   ]
  },
  {
   "cell_type": "code",
   "execution_count": null,
   "metadata": {},
   "outputs": [],
   "source": [
    "#And here’s the second scenario:\n",
    "x = {}\n",
    "y = x\n",
    "x['key'] = 'value'\n",
    "y"
   ]
  },
  {
   "cell_type": "code",
   "execution_count": null,
   "metadata": {},
   "outputs": [],
   "source": [
    "x.clear() #here I modify the dictionary that both x and y refer to, in place\n",
    "y"
   ]
  },
  {
   "cell_type": "code",
   "execution_count": 14,
   "metadata": {},
   "outputs": [
    {
     "data": {
      "text/plain": [
       "{'username': 'jackie', 'machines': ['foo', 'baz']}"
      ]
     },
     "execution_count": 14,
     "metadata": {},
     "output_type": "execute_result"
    }
   ],
   "source": [
    "#copy\n",
    "#The copy method returns a new dictionary with the same key-value pairs \n",
    "#(a shallow copy, since the values themselves are the *same*, not copies).\n",
    "\n",
    "x = {'username': 'admin', 'machines': ['foo', 'bar', 'baz']}\n",
    "y = x.copy()\n",
    "y['username'] = 'jackie'\n",
    "y['machines'].remove('bar')\n",
    "y"
   ]
  },
  {
   "cell_type": "code",
   "execution_count": 16,
   "metadata": {},
   "outputs": [
    {
     "data": {
      "text/plain": [
       "{'username': 'admin', 'machines': ['foo', 'baz']}"
      ]
     },
     "execution_count": 16,
     "metadata": {},
     "output_type": "execute_result"
    }
   ],
   "source": [
    "x"
   ]
  },
  {
   "cell_type": "code",
   "execution_count": 17,
   "metadata": {},
   "outputs": [
    {
     "data": {
      "text/plain": [
       "{'username': 'jackie', 'machines': ['foo', 'baz']}"
      ]
     },
     "execution_count": 17,
     "metadata": {},
     "output_type": "execute_result"
    }
   ],
   "source": [
    "y"
   ]
  },
  {
   "cell_type": "code",
   "execution_count": 24,
   "metadata": {},
   "outputs": [
    {
     "data": {
      "text/plain": [
       "True"
      ]
     },
     "execution_count": 24,
     "metadata": {},
     "output_type": "execute_result"
    }
   ],
   "source": [
    "x = {'username': 'admin', 'machines': ['foo', 'bar', 'baz']}\n",
    "y = x\n",
    "x is y"
   ]
  },
  {
   "cell_type": "code",
   "execution_count": null,
   "metadata": {},
   "outputs": [],
   "source": [
    "#As you can see, when you replace a value in the copy, \n",
    "#the original is unaffected. However, if you modify a value \n",
    "#(in place, without replacing it), the original is changed \n",
    "#as well because the same value is stored there \n",
    "#(like the 'machines' list in this example).\n",
    "\n",
    "#One way to avoid that problem is to make a deep copy, \n",
    "#copying the values, any values they contain, and so forth, as well. \n",
    "#You accomplish this using the function deepcopy from the copy module.\n",
    "\n",
    "from copy import deepcopy\n",
    "d = {}\n",
    "d['names'] = ['Alfred', 'Bertrand']\n",
    "c = d.copy()\n",
    "dc = deepcopy(d)\n",
    "d['names'].append('Clive')\n",
    "c"
   ]
  },
  {
   "cell_type": "code",
   "execution_count": null,
   "metadata": {},
   "outputs": [],
   "source": [
    "dc"
   ]
  },
  {
   "cell_type": "code",
   "execution_count": 12,
   "metadata": {},
   "outputs": [
    {
     "data": {
      "text/plain": [
       "{'name': None, 'age': None}"
      ]
     },
     "execution_count": 12,
     "metadata": {},
     "output_type": "execute_result"
    }
   ],
   "source": [
    "#fromkeys\n",
    "\n",
    "#The fromkeys method creates a new dictionary \n",
    "#with the given keys, each with a default corresponding value of None.\n",
    "\n",
    "{}.fromkeys(['name', 'age'])"
   ]
  },
  {
   "cell_type": "code",
   "execution_count": 13,
   "metadata": {},
   "outputs": [
    {
     "data": {
      "text/plain": [
       "{'name': None, 'age': None}"
      ]
     },
     "execution_count": 13,
     "metadata": {},
     "output_type": "execute_result"
    }
   ],
   "source": [
    "#another, slightly more efficient way to do it would be \n",
    "#to call the method directly on the type dict\n",
    "\n",
    "dict.fromkeys(['name', 'age'])"
   ]
  },
  {
   "cell_type": "code",
   "execution_count": 14,
   "metadata": {},
   "outputs": [
    {
     "data": {
      "text/plain": [
       "{'name': '(unknown)', 'age': '(unknown)'}"
      ]
     },
     "execution_count": 14,
     "metadata": {},
     "output_type": "execute_result"
    }
   ],
   "source": [
    "#If you don’t want to use None as the default value, \n",
    "#you can supply your own default.\n",
    "\n",
    "dict.fromkeys(['name', 'age'], '(unknown)')"
   ]
  },
  {
   "cell_type": "code",
   "execution_count": null,
   "metadata": {},
   "outputs": [],
   "source": [
    "#get\n",
    "\n",
    "#The get method is a forgiving way of accessing dictionary items. \n",
    "#Ordinarily, when you try to access an item that is not present in the \n",
    "#dictionary, things go very wrong.\n",
    "\n",
    "d = {}\n",
    "print(d['name'])\n"
   ]
  },
  {
   "cell_type": "code",
   "execution_count": null,
   "metadata": {},
   "outputs": [],
   "source": [
    "print(d.get('name'))"
   ]
  },
  {
   "cell_type": "code",
   "execution_count": 1,
   "metadata": {},
   "outputs": [
    {
     "ename": "NameError",
     "evalue": "name 'd' is not defined",
     "output_type": "error",
     "traceback": [
      "\u001b[0;31m---------------------------------------------------------------------------\u001b[0m",
      "\u001b[0;31mNameError\u001b[0m                                 Traceback (most recent call last)",
      "\u001b[0;32m/var/folders/1n/md4ps0cn65q85lprzk23cylh0000gn/T/ipykernel_1775/3015522803.py\u001b[0m in \u001b[0;36m<module>\u001b[0;34m\u001b[0m\n\u001b[1;32m      2\u001b[0m \u001b[0;31m#You may supply your own “default” value, which is then used instead of None.\u001b[0m\u001b[0;34m\u001b[0m\u001b[0;34m\u001b[0m\u001b[0;34m\u001b[0m\u001b[0m\n\u001b[1;32m      3\u001b[0m \u001b[0;34m\u001b[0m\u001b[0m\n\u001b[0;32m----> 4\u001b[0;31m \u001b[0md\u001b[0m\u001b[0;34m.\u001b[0m\u001b[0mget\u001b[0m\u001b[0;34m(\u001b[0m\u001b[0;34m'name'\u001b[0m\u001b[0;34m,\u001b[0m \u001b[0;34m'N/A'\u001b[0m\u001b[0;34m)\u001b[0m\u001b[0;34m\u001b[0m\u001b[0;34m\u001b[0m\u001b[0m\n\u001b[0m",
      "\u001b[0;31mNameError\u001b[0m: name 'd' is not defined"
     ]
    }
   ],
   "source": [
    "#there is no exception. Instead, you get the value None. \n",
    "#You may supply your own “default” value, which is then used instead of None.\n",
    "\n",
    "d.get('name', 'N/A')"
   ]
  },
  {
   "cell_type": "code",
   "execution_count": null,
   "metadata": {},
   "outputs": [],
   "source": [
    "#If the key is there, get works like ordinary dictionary lookup.\n",
    "\n",
    "d['name'] = 'Eric'\n",
    "d.get('name')\n",
    "#d['name']"
   ]
  },
  {
   "cell_type": "code",
   "execution_count": null,
   "metadata": {},
   "outputs": [],
   "source": [
    "#Dictionary Method Example\n",
    "\n",
    "# A simple database using get()\n",
    "# We are using the database (people) from our previous script here.\n",
    "labels = {\n",
    "    'phone': 'phone number',\n",
    "    'addr': 'address'\n",
    "}\n",
    "name = input('Name: ')\n",
    "# Are we looking for a phone number or an address?\n",
    "request = input('Phone number (p) or address (a)? ')\n",
    "# Use the correct key:\n",
    "key = request # In case the request is neither 'p' nor 'a'\n",
    "if request == 'p': key = 'phone'\n",
    "if request == 'a': key = 'addr'\n",
    "# Use get to provide default values:\n",
    "person = people.get(name, {})\n",
    "label = labels.get(key, key)\n",
    "result = person.get(key, 'not available')\n",
    "print(\"{}'s {} is {}.\".format(name, label, result))"
   ]
  },
  {
   "cell_type": "code",
   "execution_count": null,
   "metadata": {},
   "outputs": [],
   "source": [
    "#items\n",
    "\n",
    "#The items method returns a *view* of all the items of the dictionary \n",
    "#as a list of items in which each item is of the form (key, value). \n",
    "#The items are not returned in any particular order.\n",
    "\n",
    "d = {'title': 'Python Web Site', 'url': 'http://www.python.org', 'spam': 0}\n",
    "d.items()"
   ]
  },
  {
   "cell_type": "code",
   "execution_count": null,
   "metadata": {},
   "outputs": [],
   "source": [
    "#you can determine their length and check for membership.\n",
    "it = d.items()\n",
    "len(it)\n",
    "#len(d)"
   ]
  },
  {
   "cell_type": "code",
   "execution_count": null,
   "metadata": {},
   "outputs": [],
   "source": [
    "('spam', 0) in it"
   ]
  },
  {
   "cell_type": "code",
   "execution_count": null,
   "metadata": {},
   "outputs": [],
   "source": [
    "#A useful thing about views is that they don’t copy anything; \n",
    "#they always reflect the underlying dictionary, even if you modify it.\n",
    "\n",
    "d['spam'] = 1 #changing the value of the mapping here\n",
    "('spam', 0) in it"
   ]
  },
  {
   "cell_type": "code",
   "execution_count": null,
   "metadata": {},
   "outputs": [],
   "source": [
    "d['spam'] = 0\n",
    "('spam', 0) in it"
   ]
  },
  {
   "cell_type": "code",
   "execution_count": null,
   "metadata": {},
   "outputs": [],
   "source": [
    "#If, however, you’d rather copy the items into a list\n",
    "#(which is how it worked when you used items in older versions of python)\n",
    "#you can always do that yourself.\n",
    "\n",
    "list(d.items())"
   ]
  },
  {
   "cell_type": "code",
   "execution_count": null,
   "metadata": {},
   "outputs": [],
   "source": [
    "#keys\n",
    "#The keys method returns a dictionary view of the keys in the dictionary.\n",
    "d = {'x': 1, 'y': 2}\n",
    "d.keys()"
   ]
  },
  {
   "cell_type": "code",
   "execution_count": null,
   "metadata": {},
   "outputs": [],
   "source": [
    "#pop\n",
    "#The pop method can be used to get the value corresponding to a given key \n",
    "#and then to remove the key-value pair from the dictionary.\n",
    "\n",
    "d = {'x': 1, 'y': 2}\n",
    "d.pop('x')"
   ]
  },
  {
   "cell_type": "code",
   "execution_count": null,
   "metadata": {},
   "outputs": [],
   "source": [
    "d"
   ]
  },
  {
   "cell_type": "code",
   "execution_count": null,
   "metadata": {},
   "outputs": [],
   "source": [
    "#popitem\n",
    "\n",
    "#The popitem method is similar to list.pop, \n",
    "#which pops off the last element of a list.\n",
    "#Unlike list.pop, however, popitem pops off an *arbitrary* \n",
    "#item because dictionaries don’t have a “last element” or any order at all\n",
    "#This may be very useful if you want to remove and process the items one \n",
    "#by one in an efficient way (without retrieving a list of the keys first).\n",
    "\n",
    "d = {'url': 'http://www.python.org', 'spam': 0, 'title': 'Python Web Site'}\n",
    "d\n",
    "d.popitem()"
   ]
  },
  {
   "cell_type": "code",
   "execution_count": null,
   "metadata": {},
   "outputs": [],
   "source": [
    "d"
   ]
  },
  {
   "cell_type": "code",
   "execution_count": null,
   "metadata": {},
   "outputs": [],
   "source": [
    "#Although popitem is similar to the list method pop, \n",
    "#there is no dictionary equivalent of append (which adds\n",
    "#an element to the end of a list). Because dictionaries have no order, \n",
    "#such a method wouldn’t make any sense.\n",
    "\n",
    "#setdefault\n",
    "\n",
    "#The setdefault method is somewhat similar to get, \n",
    "#in that it retrieves a value associated with a given key.\n",
    "#setdefault sets the value corresponding to the given key \n",
    "#if it is not already in the dictionary.\n",
    "\n",
    "d = {}\n",
    "d.setdefault('name',)\n"
   ]
  },
  {
   "cell_type": "code",
   "execution_count": null,
   "metadata": {},
   "outputs": [],
   "source": [
    "d"
   ]
  },
  {
   "cell_type": "code",
   "execution_count": null,
   "metadata": {},
   "outputs": [],
   "source": [
    "d['name'] = 'Piper'"
   ]
  },
  {
   "cell_type": "code",
   "execution_count": null,
   "metadata": {},
   "outputs": [],
   "source": [
    "d.setdefault('name', 'N/A')"
   ]
  },
  {
   "cell_type": "code",
   "execution_count": null,
   "metadata": {},
   "outputs": [],
   "source": [
    "d"
   ]
  },
  {
   "cell_type": "code",
   "execution_count": null,
   "metadata": {},
   "outputs": [],
   "source": [
    "#when the key is missing, setdefault returns the default and \n",
    "#updates the dictionary accordingly. If the key is present, \n",
    "#its value is returned, and the dictionary is left unchanged. \n",
    "#The default is optional, as with get; if it is left out, None is used.\n",
    "\n",
    "d = {}\n",
    "print(d.setdefault('name'))"
   ]
  },
  {
   "cell_type": "code",
   "execution_count": null,
   "metadata": {},
   "outputs": [],
   "source": [
    "d"
   ]
  },
  {
   "cell_type": "code",
   "execution_count": null,
   "metadata": {},
   "outputs": [],
   "source": [
    "#update\n",
    "\n",
    "#The update method updates one dictionary with the items of another.\n",
    "d = {\n",
    "     'title': 'Python Web Site',\n",
    "     'url': 'http://www.python.org',\n",
    "     'changed': 'Mar 14 22:09:15 MET 2016'\n",
    "}\n",
    "x = {'title2': 'Python Language Website'}\n",
    "d.update(x)\n",
    "d"
   ]
  },
  {
   "cell_type": "code",
   "execution_count": null,
   "metadata": {},
   "outputs": [],
   "source": [
    "#values\n",
    "\n",
    "#The values method returns a dictionary view of the values in the dictionary. \n",
    "#Unlike keys, the view returned by values may contain duplicates.\n",
    "\n",
    "d = {}\n",
    "d[1] = 'Piper'\n",
    "d[2] = 'B'\n",
    "d[3] = 'C'\n",
    "d[4] = 'A'\n",
    "d.values()"
   ]
  },
  {
   "cell_type": "code",
   "execution_count": null,
   "metadata": {},
   "outputs": [],
   "source": [
    "# jumping ahead a bit to chapter 11 so we can get into fun stuff\n",
    "\n",
    "#So far, we’ve mainly been working with data structures \n",
    "#that reside in the interpreter itself.\n",
    "\n",
    "\n",
    "#What little interaction our programs have had with the outside \n",
    "#world has been through input and print.\n",
    "\n",
    "#The functions and objects described in this chapter will enable \n",
    "#you to store data between program invocations and to process data \n",
    "#from other programs.\n",
    "\n",
    "# Opening files: the open function\n",
    "#Assuming that you have a text file (created with your text editor, \n",
    "#perhaps) called somefile.txt stored in the current directory\n",
    "\n",
    "# myfile = open('somefile.txt')\n",
    "\n",
    "#You can also specify the full path to the file, \n",
    "#if it’s located somewhere else.\n",
    "\n",
    "myfile = open('/path/to/somefile.txt')\n",
    "\n",
    "#If it doesn’t exist, however, you’ll see an exception \n",
    "#traceback like this:"
   ]
  },
  {
   "cell_type": "code",
   "execution_count": null,
   "metadata": {},
   "outputs": [],
   "source": [
    "#If you wanted to create the file by writing text to it, \n",
    "# you will want to use the second argument to open, the \"mode argument\"\n",
    "\n",
    "#Most Common Values for the Mode Argument of the open Function\n",
    "\n",
    "#Value     Description\n",
    "#'r'       Read mode (default)\n",
    "#'w'       Write mode\n",
    "#'x'       Exclusive write mode\n",
    "#'a'       Append mode\n",
    "#'b'       Binary mode (added to other mode)\n",
    "#'t'       Text mode (default, added to other mode) \n",
    "#'+'       Read/write mode (added to other mode)\n",
    "\n",
    "\n",
    "#read mode is what happens by default, if you want to read and write a file r+ is good\n",
    "\n",
    "# The write mode enables you to write to the file and will create the \n",
    "#file if it does not exist\n",
    "\n",
    "#The exclusive write mode goes further and raises a FileExistsError \n",
    "#if the file already exists. \n",
    "\n",
    "#If your file contains nontextual, binary data, such as a sound clip or image, \n",
    "#you certainly wouldn’t want any of these automatic transformations to be performed. \n",
    "#In that case, you simply use binary mode ('rb', for example) to turn off any \n",
    "#text-specific functionality.\n",
    "\n",
    "##### The Basic File Methods #####\n",
    "\n",
    "#Reading and Writing\n",
    "\n",
    "#The most important capabilities of files are supplying and receiving data. \n",
    "#If you have a file-like object named f, you can write data with f.write and \n",
    "#read data with f.read. \n",
    "\n",
    "f = open('somefile.txt', 'w')\n",
    "f.write('Hello, ')\n"
   ]
  },
  {
   "cell_type": "code",
   "execution_count": null,
   "metadata": {},
   "outputs": [],
   "source": [
    "f.write('World!')"
   ]
  },
  {
   "cell_type": "code",
   "execution_count": null,
   "metadata": {},
   "outputs": [],
   "source": [
    "f.close()"
   ]
  },
  {
   "cell_type": "code",
   "execution_count": null,
   "metadata": {},
   "outputs": [],
   "source": [
    "import os\n",
    "cwd = os.getcwd()\n",
    "cwd\n",
    "#Always make sure you close your files"
   ]
  },
  {
   "cell_type": "code",
   "execution_count": null,
   "metadata": {},
   "outputs": [],
   "source": [
    "#Reading is just as simple. Just remember to tell the stream \n",
    "#how many characters (or bytes, in binary mode) you want to read.\n",
    "\n",
    "f = open('somefile.txt', 'r')\n",
    "f.read(4)"
   ]
  },
  {
   "cell_type": "code",
   "execution_count": null,
   "metadata": {},
   "outputs": [],
   "source": [
    "f.read(1)"
   ]
  },
  {
   "cell_type": "code",
   "execution_count": null,
   "metadata": {},
   "outputs": [],
   "source": [
    "f.read()"
   ]
  },
  {
   "cell_type": "code",
   "execution_count": null,
   "metadata": {},
   "outputs": [],
   "source": [
    "f.close()\n",
    "\n",
    "#note, I didn't need the 'r', since that is the default:\n",
    "\n",
    "f = open('somefile.txt')\n",
    "f.read()"
   ]
  },
  {
   "cell_type": "code",
   "execution_count": null,
   "metadata": {},
   "outputs": [],
   "source": [
    "# sys \n",
    "\n",
    "# (this is from chapter 10, if you want to read more on it)\n",
    "\n",
    "#The sys module gives you access to variables and functions \n",
    "#that are closely linked to the Python interpreter.\n",
    "\n",
    "#Function/Variable      Description \n",
    "#argv                   The command-line arguments, including the script name\n",
    "#exit([arg])            Exits the current program, optionally with a given return \n",
    "                        #value or error message\n",
    "#modules                A dictionary mapping module names to loaded modules\n",
    "#path                   A list of directory names where modules can be found\n",
    "#platform               A platform identifier such as sunos5 or win32\n",
    "#stdin                  Standard input stream—a file-like object\n",
    "#stdout                 Standard output stream—a file-like object\n",
    "#stderr                 Standard error stream—a file-like object \n",
    "\n",
    "#The variable sys.argv contains the arguments passed to \n",
    "# the Python interpreter, including the script name\n",
    "\n",
    "#The function sys.exit exits the current program.\n",
    "\n",
    "#sys.path is a list of strings, in which each string is the name of a \n",
    "#directory where the interpreter will look for modules when an import statement is executed.\n",
    "\n",
    "#The module variables sys.stdin, sys.stdout, and sys.stderr are file-like stream objects. \n",
    "# They represent the standard UNIX concepts of standard input, standard output, and \n",
    "#standard error. To put it simply, sys.stdin is where Python gets its input (used in input, \n",
    "#for example), and sys.stdout is where it prints. \n",
    "\n",
    "# eg: \n",
    "\n",
    "# ./myscript.py /path/to/input/file1 /path/to/input/file2 /path/to/file/I/want/to/write/output\n",
    "\n",
    "#sys.argv would be a list with those three elements"
   ]
  },
  {
   "cell_type": "code",
   "execution_count": null,
   "metadata": {},
   "outputs": [],
   "source": [
    "#Simple Script That Counts the Words in sys.stdin\n",
    "#somescript.py\n",
    "import sys\n",
    "text = sys.stdin.read()\n",
    "words = text.split()\n",
    "wordcount = len(words)\n",
    "print(\"Wordcount:\", wordcount)\n",
    "\n",
    "#Piping Output\n",
    "\n",
    "#In a shell such as bash, you can write several commands after one another, \n",
    "#linked together with pipes, as in this example:\n",
    "\n",
    "# $ cat somefile.txt | python somescript.py | sort\n",
    "\n",
    "#now lets try it at the command line, with some random text \n",
    "# (piper: cat randomtext.txt | ./somescript.py)!"
   ]
  },
  {
   "cell_type": "code",
   "execution_count": null,
   "metadata": {},
   "outputs": [],
   "source": [
    "# random access\n",
    "#you can also move around a file, accessing only the parts you are interested in \n",
    "#(called random access) by using the two file-object methods seek and tell.\n",
    "\n",
    "f = open('somefile.txt', 'w')\n",
    "f.write('0123456789012345')"
   ]
  },
  {
   "cell_type": "code",
   "execution_count": null,
   "metadata": {},
   "outputs": [],
   "source": [
    "f.seek(5)"
   ]
  },
  {
   "cell_type": "code",
   "execution_count": null,
   "metadata": {},
   "outputs": [],
   "source": [
    "f.write('Hello, World!')"
   ]
  },
  {
   "cell_type": "code",
   "execution_count": null,
   "metadata": {},
   "outputs": [],
   "source": [
    "f.close()"
   ]
  },
  {
   "cell_type": "code",
   "execution_count": null,
   "metadata": {},
   "outputs": [],
   "source": [
    "f = open(r'somefile.txt')\n",
    "f.read()\n",
    "f.close()"
   ]
  },
  {
   "cell_type": "code",
   "execution_count": null,
   "metadata": {},
   "outputs": [],
   "source": [
    "#the method tell() returns the current file position, as in the following example:\n",
    "\n",
    "f = open(r'somefile.txt')"
   ]
  },
  {
   "cell_type": "code",
   "execution_count": null,
   "metadata": {},
   "outputs": [],
   "source": [
    "f.read(3)"
   ]
  },
  {
   "cell_type": "code",
   "execution_count": null,
   "metadata": {},
   "outputs": [],
   "source": [
    "f.read(2)"
   ]
  },
  {
   "cell_type": "code",
   "execution_count": null,
   "metadata": {},
   "outputs": [],
   "source": [
    "f.tell()"
   ]
  },
  {
   "cell_type": "code",
   "execution_count": null,
   "metadata": {},
   "outputs": [],
   "source": [
    "# Reading and Writing Lines\n",
    "\n",
    "# reading files letter by letter is almost never practical in data processing\n",
    "#  You can read a single line (text from where you have come so far, up to and \n",
    "#including the first line separator you encounter) with the readline method\n",
    "\n",
    "#You can use this method either without any arguments (in which case a line is \n",
    "#simply read and returned) or with a nonnegative integer, which is then the \n",
    "#maximum number of characters that readline is allowed to read. So if \n",
    "#some_file. \n",
    "#readline() returns 'Hello, World!\\n', then some_file.readline(5) returns \n",
    "#'Hello'. To read all the lines of a file and have them returned as a list, \n",
    "#use the readlines method.\n",
    "\n",
    "# we will go over readline() and readlines() more later\n",
    "\n",
    "#closing files\n",
    "\n",
    "# you always want to close your files- sometimes your operating system will only\n",
    "# let you have a certain number of files open at a time\n",
    "# and sometimes python will hold the data you've written in a buffer for efficiency reasons\n",
    "# and keeping these files open will swamp out your memory\n",
    "\n",
    "# If you want to reset the buffering and make your changes visible in the actual file \n",
    "#on disk but you don’t yet want to close the file, you can use the flush method\n",
    "\n",
    "#when you close a file the buffered data associated with it is flushed automatically,\n",
    "# so it's good practice to always close files\n",
    "\n",
    "#There is, in fact, a statement that is designed as a cheat for this- the with statement.\n",
    "\n",
    "#eg:\n",
    "\n",
    "#with open(\"somefile.txt\") as somefile:\n",
    "#     do_something(somefile)\n",
    "\n",
    "# that's SO much text. Let's get back to code....\n",
    "\n",
    "# let's make a file: haiku.txt \n",
    "\n",
    "f = open('haiku.txt','w')\n",
    "f.write('Welcome to this file\\nThere is nothing here except\\nThis stupid haiku')\n",
    "f.close()"
   ]
  },
  {
   "cell_type": "code",
   "execution_count": null,
   "metadata": {},
   "outputs": [],
   "source": [
    "f = open('haiku.txt')"
   ]
  },
  {
   "cell_type": "code",
   "execution_count": null,
   "metadata": {},
   "outputs": [],
   "source": [
    "# let's start with things you know: read(n)\n",
    "\n",
    "f.read(7)"
   ]
  },
  {
   "cell_type": "code",
   "execution_count": null,
   "metadata": {},
   "outputs": [],
   "source": [
    "f.read(4)"
   ]
  },
  {
   "cell_type": "code",
   "execution_count": null,
   "metadata": {},
   "outputs": [],
   "source": [
    "f.close()"
   ]
  },
  {
   "cell_type": "code",
   "execution_count": null,
   "metadata": {},
   "outputs": [],
   "source": [
    "#Next up is read():\n"
   ]
  },
  {
   "cell_type": "code",
   "execution_count": null,
   "metadata": {},
   "outputs": [],
   "source": [
    "f = open('haiku.txt')\n",
    "print(f.read())\n",
    "f.close()"
   ]
  },
  {
   "cell_type": "code",
   "execution_count": null,
   "metadata": {},
   "outputs": [],
   "source": [
    "#Here’s readline():\n",
    "f = open('haiku.txt')\n",
    "for i in range(3):\n",
    "    print(str(i) + ': ' + f.readline(), end='')\n",
    "f.close()"
   ]
  },
  {
   "cell_type": "code",
   "execution_count": null,
   "metadata": {},
   "outputs": [],
   "source": [
    "#And here’s readlines():\n",
    "f = open(r'haiku.txt')\n",
    "mylist = f.readlines()\n",
    "print(mylist)\n",
    "f.close()"
   ]
  },
  {
   "cell_type": "code",
   "execution_count": null,
   "metadata": {},
   "outputs": [],
   "source": [
    "#Now let’s try writing- starting with write(string):\n",
    "\n",
    "f = open('haiku.txt','w')\n",
    "f.write('this\\nis no\\nhaiku')\n",
    "f.close()"
   ]
  },
  {
   "cell_type": "code",
   "execution_count": null,
   "metadata": {},
   "outputs": [],
   "source": [
    "f = open('haiku.txt')\n",
    "print(f.read())\n",
    "f.close()"
   ]
  },
  {
   "cell_type": "code",
   "execution_count": null,
   "metadata": {},
   "outputs": [],
   "source": [
    "# Finally, here’s writelines(list): \n",
    "f = open('haiku.txt')\n",
    "lines = f.readlines()\n",
    "f.close()\n",
    "\n",
    "lines[1] = \"isn't a\\n\"\n",
    "f = open('haiku.txt', 'w')\n",
    "f.writelines(lines)\n",
    "f.close()"
   ]
  },
  {
   "cell_type": "code",
   "execution_count": null,
   "metadata": {},
   "outputs": [],
   "source": [
    "f = open('haiku.txt')\n",
    "print(f.read())\n",
    "f.close()"
   ]
  },
  {
   "cell_type": "code",
   "execution_count": null,
   "metadata": {},
   "outputs": [],
   "source": [
    "# Iterating over File Contents\n",
    "\n",
    "#One of the common operations on files is to iterate over their contents\n",
    "#repeatedly performing some action as you go\n",
    "\n",
    "#let's create a new function called 'process', that just prints 'Processing:' and whatever \n",
    "# argument you give it:\n",
    "\n",
    "def process(string):\n",
    "    print('Processing:', string)"
   ]
  },
  {
   "cell_type": "code",
   "execution_count": null,
   "metadata": {},
   "outputs": [],
   "source": [
    "#One of the most basic (but probably least common) \n",
    "#ways of iterating over file contents is to use the read method in a while loop. \n",
    "\n",
    "with open('haiku.txt') as f:\n",
    "    char = f.read(1)\n",
    "    while char:\n",
    "        process(char)\n",
    "        char = f.read(1)\n",
    "        \n",
    "\n"
   ]
  },
  {
   "cell_type": "code",
   "execution_count": null,
   "metadata": {},
   "outputs": [],
   "source": [
    "#Listing 11-7. Writing the Loop Differently\n",
    "with open('haiku.txt') as f:\n",
    "    while True:\n",
    "        char = f.read(1)\n",
    "        if not char: break\n",
    "        process(char)"
   ]
  },
  {
   "cell_type": "code",
   "execution_count": null,
   "metadata": {},
   "outputs": [],
   "source": [
    "# Using readline in a while Loop\n",
    "with open('haiku.txt') as f:\n",
    "    while True:\n",
    "        line = f.readline()\n",
    "        if not line: break\n",
    "        process(line)"
   ]
  },
  {
   "cell_type": "code",
   "execution_count": null,
   "metadata": {},
   "outputs": [],
   "source": [
    "#Iterating over Characters with read\n",
    "with open('haiku.txt') as f:\n",
    "    for char in f.read():\n",
    "        process(char)"
   ]
  },
  {
   "cell_type": "code",
   "execution_count": null,
   "metadata": {},
   "outputs": [],
   "source": [
    "#Iterating over Lines with readlines\n",
    "with open('haiku.txt') as f:\n",
    "    for line in f.readlines():\n",
    "        process(line)"
   ]
  },
  {
   "cell_type": "code",
   "execution_count": null,
   "metadata": {},
   "outputs": [],
   "source": [
    "#Iterating over Lines with fileinput\n",
    "\n",
    "#the fileinput module takes care of opening the file. \n",
    "#You just need to give it a file name.\n",
    "\n",
    "import fileinput\n",
    "for line in fileinput.input('haiku.txt'):\n",
    "    process(line)"
   ]
  },
  {
   "cell_type": "code",
   "execution_count": null,
   "metadata": {},
   "outputs": [],
   "source": [
    "#Iterating over a File - with open() auto closes your file handle for you\n",
    "#most common\n",
    "with open('haiku.txt') as f:\n",
    "    for line in f:\n",
    "        process(line)\n"
   ]
  },
  {
   "cell_type": "code",
   "execution_count": null,
   "metadata": {},
   "outputs": [],
   "source": [
    "#Iterating over a File Without Storing the File Object in a Variable\n",
    "#most common\n",
    "for line in open('haiku.txt'):\n",
    "    process(line)"
   ]
  },
  {
   "cell_type": "code",
   "execution_count": null,
   "metadata": {},
   "outputs": [],
   "source": [
    "#Note that sys.stdin is iterable, just like other files, \n",
    "#so if you want to iterate over all the lines in standard\n",
    "#input, you can use this form:\n",
    "\n",
    "import sys\n",
    "for line in sys.stdin:\n",
    "    process(line)"
   ]
  },
  {
   "cell_type": "code",
   "execution_count": null,
   "metadata": {},
   "outputs": [],
   "source": [
    "#Also, you can do all the things you can do with iterators in general, \n",
    "#such as converting them into lists of strings (by using list(open(filename))), \n",
    "#which would simply be equivalent to using readlines.\n",
    "\n",
    "f = open('somefile.txt', 'w')\n",
    "print('First', 'line', file=f)\n",
    "print('Second', 'line', file=f)\n",
    "print('Third', 'and final', 'line', file=f)\n",
    "f.close()"
   ]
  },
  {
   "cell_type": "code",
   "execution_count": null,
   "metadata": {},
   "outputs": [],
   "source": [
    "f = open(r'somefile.txt')\n",
    "print(f.read())\n",
    "f.close()"
   ]
  },
  {
   "cell_type": "code",
   "execution_count": null,
   "metadata": {},
   "outputs": [],
   "source": [
    "lines = list(open('somefile.txt'))\n",
    "lines"
   ]
  },
  {
   "cell_type": "code",
   "execution_count": null,
   "metadata": {},
   "outputs": [],
   "source": [
    "first, second, third = open('somefile.txt')"
   ]
  },
  {
   "cell_type": "code",
   "execution_count": null,
   "metadata": {},
   "outputs": [],
   "source": [
    "first"
   ]
  },
  {
   "cell_type": "code",
   "execution_count": null,
   "metadata": {},
   "outputs": [],
   "source": [
    "second"
   ]
  },
  {
   "cell_type": "code",
   "execution_count": null,
   "metadata": {},
   "outputs": [],
   "source": [
    "third"
   ]
  },
  {
   "cell_type": "code",
   "execution_count": null,
   "metadata": {},
   "outputs": [],
   "source": [
    "f.close()"
   ]
  },
  {
   "cell_type": "code",
   "execution_count": null,
   "metadata": {},
   "outputs": [],
   "source": [
    "# review\n",
    "# opening and closing files\n",
    "# modes and file types (r,w,+, etc)\n",
    "# reading from the standard stream (stdin, stdout, and stderr)\n",
    "# Reading and writing\n",
    "# Reading and writing lines\n",
    "# Iterating over file contents"
   ]
  },
  {
   "cell_type": "code",
   "execution_count": null,
   "metadata": {},
   "outputs": [],
   "source": []
  }
 ],
 "metadata": {
  "kernelspec": {
   "display_name": "Python 3 (ipykernel)",
   "language": "python",
   "name": "python3"
  },
  "language_info": {
   "codemirror_mode": {
    "name": "ipython",
    "version": 3
   },
   "file_extension": ".py",
   "mimetype": "text/x-python",
   "name": "python",
   "nbconvert_exporter": "python",
   "pygments_lexer": "ipython3",
   "version": "3.7.7"
  }
 },
 "nbformat": 4,
 "nbformat_minor": 2
}
